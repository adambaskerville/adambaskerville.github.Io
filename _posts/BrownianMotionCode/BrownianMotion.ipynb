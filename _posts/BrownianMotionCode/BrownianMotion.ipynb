{
 "cells": [
  {
   "cell_type": "markdown",
   "metadata": {},
   "source": [
    "# Brownian Motion"
   ]
  },
  {
   "cell_type": "code",
   "execution_count": null,
   "metadata": {},
   "outputs": [],
   "source": [
    "import numpy as np\n",
    "import matplotlib.pyplot as plt\n",
    "from matplotlib.animation import FuncAnimation\n",
    "from IPython.display import HTML\n",
    "import mpl_toolkits.mplot3d.axes3d as p3\n",
    "\n",
    "fig = plt.figure()\n",
    "ax = p3.Axes3D(fig)\n",
    "\n",
    "N = 1000 # Number of points\n",
    "T = 1.0\n",
    "dt = T/(N-1)\n",
    "\n",
    "dX = np.sqrt(dt) * np.random.randn(1, N)\n",
    "X = np.cumsum(dX) # Cumulatively add these values to get the x positions of the particle\n",
    "\n",
    "dY = np.sqrt(dt) * np.random.randn(1, N) \n",
    "Y = np.cumsum(dY) # Cumulatively add these values to get the y positions of the particle\n",
    "\n",
    "dZ = np.sqrt(dt) * np.random.randn(1, N) \n",
    "Z = np.cumsum(dZ) # Cumulatively add these values to get the z positions of the particle\n",
    "\n",
    "line, = ax.plot(X, Y, Z, color='blue', lw=1)\n",
    "\n",
    "def animate(i):\n",
    "    '''\n",
    "    This function is iterated over by FuncAnimation to produce the frames necessary to produce the animation \n",
    "    \n",
    "    Parameters:\n",
    "    -----------\n",
    "    i : int\n",
    "        This is the index used to iterate through the coordinate arrays\n",
    "    \n",
    "    Returns:\n",
    "    --------\n",
    "    line : mpl_toolkits.mplot3d.art3d.Line3D\n",
    "           This contains the line information which is updated each time the function is iterated over\n",
    "    '''\n",
    "    line.set_data(X[:i], Y[:i])\n",
    "    line.set_3d_properties(Z[:i])\n",
    "\n",
    "    return line\n",
    "\n",
    "anim = FuncAnimation(fig, animate, interval=10, frames=N, repeat=False)\n",
    "\n",
    "HTML(anim.to_html5_video()) # This is just for the Jupyter notebook which will not show the animation when using plt.show()\n",
    "\n",
    "# if running locally, uncomment these two lines and remove the HTML command above.\n",
    "#plt.show()"
   ]
  }
 ],
 "metadata": {
  "kernelspec": {
   "display_name": "Python 3",
   "language": "python",
   "name": "python3"
  },
  "language_info": {
   "codemirror_mode": {
    "name": "ipython",
    "version": 3
   },
   "file_extension": ".py",
   "mimetype": "text/x-python",
   "name": "python",
   "nbconvert_exporter": "python",
   "pygments_lexer": "ipython3",
   "version": "3.7.3"
  },
  "toc-autonumbering": true
 },
 "nbformat": 4,
 "nbformat_minor": 4
}
